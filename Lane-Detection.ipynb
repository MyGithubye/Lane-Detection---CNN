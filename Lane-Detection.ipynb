{
 "cells": [
  {
   "cell_type": "code",
   "execution_count": 0,
   "metadata": {
    "colab": {},
    "colab_type": "code",
    "id": "bovL_v886kYr"
   },
   "outputs": [],
   "source": [
    "'''IMPORTING PYTHON LIBRARIES'''\n",
    "import numpy as np\n",
    "import pickle\n",
    "import pandas as pd\n",
    "import matplotlib.pyplot as plt\n",
    "\n",
    "\n",
    "from sklearn.utils import shuffle\n",
    "from sklearn.model_selection import train_test_split\n"
   ]
  },
  {
   "cell_type": "code",
   "execution_count": 0,
   "metadata": {
    "colab": {
     "base_uri": "https://localhost:8080/",
     "height": 106
    },
    "colab_type": "code",
    "id": "GgiFL_wf7o4a",
    "outputId": "896602b6-c1ef-492a-c8d2-c15319af063e"
   },
   "outputs": [
    {
     "name": "stdout",
     "output_type": "stream",
     "text": [
      "WARNING:tensorflow:From /usr/local/lib/python3.6/dist-packages/tensorflow/python/compat/v2_compat.py:96: disable_resource_variables (from tensorflow.python.ops.variable_scope) is deprecated and will be removed in a future version.\n",
      "Instructions for updating:\n",
      "non-resource variables are not supported in the long term\n"
     ]
    },
    {
     "name": "stderr",
     "output_type": "stream",
     "text": [
      "Using TensorFlow backend.\n"
     ]
    }
   ],
   "source": [
    "'''IMPORTING TENSORFLOW LIBRARIES'''\n",
    "from tensorflow.python.keras.models import Sequential\n",
    "from tensorflow.python.keras.layers import Activation, Dropout, UpSampling2D, Concatenate\n",
    "from tensorflow.python.keras.layers import Conv2DTranspose, Conv2D, MaxPooling2D,merge, Add\n",
    "from tensorflow.python.keras.layers.normalization import BatchNormalization\n",
    "from tensorflow.python.keras.preprocessing.image import ImageDataGenerator\n",
    "from tensorflow.python.keras import regularizers\n",
    "from keras.callbacks import ModelCheckpoint\n",
    "import tensorflow as tf\n",
    "tf.compat.v1.disable_v2_behavior()\n"
   ]
  },
  {
   "cell_type": "code",
   "execution_count": 0,
   "metadata": {
    "colab": {
     "base_uri": "https://localhost:8080/",
     "height": 34
    },
    "colab_type": "code",
    "id": "uGZwbNLF7vqj",
    "outputId": "350ceb17-2012-4b25-fd82-cb524243208c"
   },
   "outputs": [
    {
     "name": "stdout",
     "output_type": "stream",
     "text": [
      "Drive already mounted at /content/drive; to attempt to forcibly remount, call drive.mount(\"/content/drive\", force_remount=True).\n"
     ]
    }
   ],
   "source": [
    "'''LOADING GOOGLE DRIVE'''\n",
    "from google.colab import drive\n",
    "drive.mount('/content/drive')"
   ]
  },
  {
   "cell_type": "code",
   "execution_count": 0,
   "metadata": {
    "colab": {},
    "colab_type": "code",
    "id": "HP-c0gMg8FV4"
   },
   "outputs": [],
   "source": [
    "'''READING THE DATASET'''\n",
    "\n",
    "\n",
    "\n",
    "train_labels = pickle.load(open(\"/content/drive/My Drive/ML_project/Lane_Detection/full_CNN_labels.p\", \"rb\" ))\n",
    "train_images = pickle.load(open(\"/content/drive/My Drive/ML_project/Lane_Detection/full_CNN_train.p\", \"rb\" ))\n",
    "train_images = np.array(train_images)\n",
    "train_labels = np.array(train_labels)/255"
   ]
  },
  {
   "cell_type": "code",
   "execution_count": 0,
   "metadata": {
    "colab": {},
    "colab_type": "code",
    "id": "LnYEpztd97A-"
   },
   "outputs": [],
   "source": [
    "def conv_block(X,kernal_size,num_of_filter,stride):\n",
    "\n",
    "  '''\n",
    "  This function defines the convolution block used in the model.\n",
    "  First layer is a 1x1 colvolution layer.\n",
    "  Second layer is a batch normalization layer.\n",
    "  third layer is (kernal_size x kernal_size) convolution layer\n",
    "  forth layer is batch normalization\n",
    "  fifth layer is (kernal_size x kernal_size) convolution layer\n",
    "  sixth layer is batch normalization\n",
    "\n",
    "  We call this multiple number of times to implement UNET structure\n",
    "  '''\n",
    "\n",
    "\n",
    "  out_put = Conv2D(num_of_filter[0], strides = (stride,stride), kernel_size=(1,1), padding='same', activation='relu', kernel_initializer = tf.keras.initializers.he_uniform())(X)\n",
    "  out_put = BatchNormalization(axis=3)(out_put)\n",
    "  #out_put = Dropout(0.2)(out_put)\n",
    "  \n",
    "  out_put = Conv2D(num_of_filter[1], strides = (stride,stride), kernel_size=(kernal_size,kernal_size), padding='same', activation='relu', kernel_initializer = tf.keras.initializers.he_uniform())(out_put)\n",
    "  out_put = BatchNormalization(axis=3)(out_put)\n",
    "  #out_put = Dropout(0.2)(out_put)\n",
    "  \n",
    "  out_put = Conv2D(num_of_filter[2], strides = (stride,stride), kernel_size=(kernal_size,kernal_size), padding='same', activation='relu', kernel_initializer = tf.keras.initializers.he_uniform())(out_put)\n",
    "  out_put = BatchNormalization(axis=3)(out_put)\n",
    "  #out_put = Dropout(0.2)(out_put)\n",
    "\n",
    "  \n",
    "  return out_put"
   ]
  },
  {
   "cell_type": "code",
   "execution_count": 0,
   "metadata": {
    "colab": {},
    "colab_type": "code",
    "id": "lB5hnTiyud_F"
   },
   "outputs": [],
   "source": [
    "def De_conv_block(X,kernal_size,num_of_filter):\n",
    "\n",
    "  '''\n",
    "  In this function, we try to implement the transpose convolution layer.\n",
    "  '''\n",
    "\n",
    "  x = UpSampling2D((2, 2))(X)\n",
    "  y1 = Conv2DTranspose(num_of_filter, (kernal_size, kernal_size), activation='relu', padding='same')(x) \n",
    "\n",
    "  return y1"
   ]
  },
  {
   "cell_type": "code",
   "execution_count": 0,
   "metadata": {
    "colab": {},
    "colab_type": "code",
    "id": "1J2FKWrnzUeb"
   },
   "outputs": [],
   "source": [
    "'''PRE-PROCESSING'''\n",
    "\n",
    "\n",
    "train_images, train_labels = shuffle(train_images, train_labels)\n",
    "# Test size may be 10% or 20%\n",
    "X_train, X_val, y_train, y_val = train_test_split(train_images, train_labels, test_size=0.2)\n",
    "\n",
    "# Batch size, epochs and pool size below are all paramaters to fiddle with for optimization\n",
    "batch_size = 128\n",
    "epochs = 10\n",
    "pool_size = (2, 2)\n",
    "input_shape = X_train.shape[1:]"
   ]
  },
  {
   "cell_type": "code",
   "execution_count": 0,
   "metadata": {
    "colab": {},
    "colab_type": "code",
    "id": "bvxTtfpk96-P"
   },
   "outputs": [],
   "source": [
    "\n",
    "'''MODEL DEFINiTION'''\n",
    "\n",
    "\n",
    "tf.compat.v1.reset_default_graph()\n",
    "\n",
    "X_input = tf.keras.Input(input_shape)\n",
    "'''Block 1 Convolution'''\n",
    "down1 = conv_block(X_input,3,[32,32,32],1)\n",
    "pool = MaxPooling2D((2, 2), padding='same')(down1)\n",
    "\n",
    "'''Block 2 Convolution'''\n",
    "down2 = conv_block(pool,3,[64,64,64],1)\n",
    "pool = MaxPooling2D((2, 2), padding='same')(down2)\n",
    "\n",
    "'''Block 3 Convolution'''\n",
    "down3 = conv_block(pool,3,[128,128,128],1)\n",
    "pool = MaxPooling2D((2, 2), padding='same')(down3)\n",
    "\n",
    "'''Block 4 Convolution'''\n",
    "down4 = conv_block(pool,3,[256,256,256],1)\n",
    "pool = MaxPooling2D((2, 2), padding='same')(down4)\n",
    "\n",
    "'''Equilizer'''\n",
    "eq = Conv2D(512, strides = (1,1), kernel_size=(1,1), padding='same', activation='relu', kernel_initializer = tf.keras.initializers.he_uniform())(pool)\n",
    "\n",
    "\n",
    "'''Block 1 Deconvolve'''\n",
    "up1 = De_conv_block(eq,3,256)\n",
    "up1 = conv_block(up1,3,[256,256,256],1)\n",
    "up1 = Add()([up1,down4])\n",
    "\n",
    "'''Block 1 Deconvolve'''\n",
    "up2 = De_conv_block(up1,3,128)\n",
    "up2 = conv_block(up2,3,[128,128,128],1)\n",
    "up2 = Add()([up2,down3])\n",
    "\n",
    "'''Block 1 Deconvolve'''\n",
    "up3 = De_conv_block(up2,3,64)\n",
    "up3 = conv_block(up3,3,[64,64,64],1)\n",
    "up3 = Add()([up3,down2])\n",
    "\n",
    "'''Block 1 Deconvolve'''\n",
    "up4 = De_conv_block(up3,3,32)\n",
    "up4 = conv_block(up4,3,[32,32,32],1)\n",
    "up4 = Add()([up4,down1])\n",
    "\n",
    "out1 = Conv2D(16, strides = (1,1), kernel_size=(3,3), padding='same', activation='relu', kernel_initializer = tf.keras.initializers.he_uniform())(up4)\n",
    "out2 = Conv2D(8, strides = (1,1), kernel_size=(3,3), padding='same', activation='relu', kernel_initializer = tf.keras.initializers.he_uniform())(out1)\n",
    "out3 = Conv2D(1, strides = (1,1), kernel_size=(3,3), padding='same', activation='sigmoid', kernel_initializer = tf.keras.initializers.he_uniform())(out2)"
   ]
  },
  {
   "cell_type": "code",
   "execution_count": 0,
   "metadata": {
    "colab": {
     "base_uri": "https://localhost:8080/",
     "height": 1000
    },
    "colab_type": "code",
    "id": "4ZZWGaMrbUjN",
    "outputId": "516c7b69-0ec6-4465-b747-efb0da74a776"
   },
   "outputs": [
    {
     "name": "stdout",
     "output_type": "stream",
     "text": [
      "Model: \"encoder\"\n",
      "__________________________________________________________________________________________________\n",
      "Layer (type)                    Output Shape         Param #     Connected to                     \n",
      "==================================================================================================\n",
      "input_1 (InputLayer)            [(None, 80, 160, 3)] 0                                            \n",
      "__________________________________________________________________________________________________\n",
      "conv2d (Conv2D)                 (None, 80, 160, 32)  128         input_1[0][0]                    \n",
      "__________________________________________________________________________________________________\n",
      "batch_normalization (BatchNorma (None, 80, 160, 32)  128         conv2d[0][0]                     \n",
      "__________________________________________________________________________________________________\n",
      "conv2d_1 (Conv2D)               (None, 80, 160, 32)  9248        batch_normalization[0][0]        \n",
      "__________________________________________________________________________________________________\n",
      "batch_normalization_1 (BatchNor (None, 80, 160, 32)  128         conv2d_1[0][0]                   \n",
      "__________________________________________________________________________________________________\n",
      "conv2d_2 (Conv2D)               (None, 80, 160, 32)  9248        batch_normalization_1[0][0]      \n",
      "__________________________________________________________________________________________________\n",
      "batch_normalization_2 (BatchNor (None, 80, 160, 32)  128         conv2d_2[0][0]                   \n",
      "__________________________________________________________________________________________________\n",
      "max_pooling2d (MaxPooling2D)    (None, 40, 80, 32)   0           batch_normalization_2[0][0]      \n",
      "__________________________________________________________________________________________________\n",
      "conv2d_3 (Conv2D)               (None, 40, 80, 64)   2112        max_pooling2d[0][0]              \n",
      "__________________________________________________________________________________________________\n",
      "batch_normalization_3 (BatchNor (None, 40, 80, 64)   256         conv2d_3[0][0]                   \n",
      "__________________________________________________________________________________________________\n",
      "conv2d_4 (Conv2D)               (None, 40, 80, 64)   36928       batch_normalization_3[0][0]      \n",
      "__________________________________________________________________________________________________\n",
      "batch_normalization_4 (BatchNor (None, 40, 80, 64)   256         conv2d_4[0][0]                   \n",
      "__________________________________________________________________________________________________\n",
      "conv2d_5 (Conv2D)               (None, 40, 80, 64)   36928       batch_normalization_4[0][0]      \n",
      "__________________________________________________________________________________________________\n",
      "batch_normalization_5 (BatchNor (None, 40, 80, 64)   256         conv2d_5[0][0]                   \n",
      "__________________________________________________________________________________________________\n",
      "max_pooling2d_1 (MaxPooling2D)  (None, 20, 40, 64)   0           batch_normalization_5[0][0]      \n",
      "__________________________________________________________________________________________________\n",
      "conv2d_6 (Conv2D)               (None, 20, 40, 128)  8320        max_pooling2d_1[0][0]            \n",
      "__________________________________________________________________________________________________\n",
      "batch_normalization_6 (BatchNor (None, 20, 40, 128)  512         conv2d_6[0][0]                   \n",
      "__________________________________________________________________________________________________\n",
      "conv2d_7 (Conv2D)               (None, 20, 40, 128)  147584      batch_normalization_6[0][0]      \n",
      "__________________________________________________________________________________________________\n",
      "batch_normalization_7 (BatchNor (None, 20, 40, 128)  512         conv2d_7[0][0]                   \n",
      "__________________________________________________________________________________________________\n",
      "conv2d_8 (Conv2D)               (None, 20, 40, 128)  147584      batch_normalization_7[0][0]      \n",
      "__________________________________________________________________________________________________\n",
      "batch_normalization_8 (BatchNor (None, 20, 40, 128)  512         conv2d_8[0][0]                   \n",
      "__________________________________________________________________________________________________\n",
      "max_pooling2d_2 (MaxPooling2D)  (None, 10, 20, 128)  0           batch_normalization_8[0][0]      \n",
      "__________________________________________________________________________________________________\n",
      "conv2d_9 (Conv2D)               (None, 10, 20, 256)  33024       max_pooling2d_2[0][0]            \n",
      "__________________________________________________________________________________________________\n",
      "batch_normalization_9 (BatchNor (None, 10, 20, 256)  1024        conv2d_9[0][0]                   \n",
      "__________________________________________________________________________________________________\n",
      "conv2d_10 (Conv2D)              (None, 10, 20, 256)  590080      batch_normalization_9[0][0]      \n",
      "__________________________________________________________________________________________________\n",
      "batch_normalization_10 (BatchNo (None, 10, 20, 256)  1024        conv2d_10[0][0]                  \n",
      "__________________________________________________________________________________________________\n",
      "conv2d_11 (Conv2D)              (None, 10, 20, 256)  590080      batch_normalization_10[0][0]     \n",
      "__________________________________________________________________________________________________\n",
      "batch_normalization_11 (BatchNo (None, 10, 20, 256)  1024        conv2d_11[0][0]                  \n",
      "__________________________________________________________________________________________________\n",
      "max_pooling2d_3 (MaxPooling2D)  (None, 5, 10, 256)   0           batch_normalization_11[0][0]     \n",
      "__________________________________________________________________________________________________\n",
      "conv2d_12 (Conv2D)              (None, 5, 10, 512)   131584      max_pooling2d_3[0][0]            \n",
      "__________________________________________________________________________________________________\n",
      "up_sampling2d (UpSampling2D)    (None, 10, 20, 512)  0           conv2d_12[0][0]                  \n",
      "__________________________________________________________________________________________________\n",
      "conv2d_transpose (Conv2DTranspo (None, 10, 20, 256)  1179904     up_sampling2d[0][0]              \n",
      "__________________________________________________________________________________________________\n",
      "conv2d_13 (Conv2D)              (None, 10, 20, 256)  65792       conv2d_transpose[0][0]           \n",
      "__________________________________________________________________________________________________\n",
      "batch_normalization_12 (BatchNo (None, 10, 20, 256)  1024        conv2d_13[0][0]                  \n",
      "__________________________________________________________________________________________________\n",
      "conv2d_14 (Conv2D)              (None, 10, 20, 256)  590080      batch_normalization_12[0][0]     \n",
      "__________________________________________________________________________________________________\n",
      "batch_normalization_13 (BatchNo (None, 10, 20, 256)  1024        conv2d_14[0][0]                  \n",
      "__________________________________________________________________________________________________\n",
      "conv2d_15 (Conv2D)              (None, 10, 20, 256)  590080      batch_normalization_13[0][0]     \n",
      "__________________________________________________________________________________________________\n",
      "batch_normalization_14 (BatchNo (None, 10, 20, 256)  1024        conv2d_15[0][0]                  \n",
      "__________________________________________________________________________________________________\n",
      "add (Add)                       (None, 10, 20, 256)  0           batch_normalization_14[0][0]     \n",
      "                                                                 batch_normalization_11[0][0]     \n",
      "__________________________________________________________________________________________________\n",
      "up_sampling2d_1 (UpSampling2D)  (None, 20, 40, 256)  0           add[0][0]                        \n",
      "__________________________________________________________________________________________________\n",
      "conv2d_transpose_1 (Conv2DTrans (None, 20, 40, 128)  295040      up_sampling2d_1[0][0]            \n",
      "__________________________________________________________________________________________________\n",
      "conv2d_16 (Conv2D)              (None, 20, 40, 128)  16512       conv2d_transpose_1[0][0]         \n",
      "__________________________________________________________________________________________________\n",
      "batch_normalization_15 (BatchNo (None, 20, 40, 128)  512         conv2d_16[0][0]                  \n",
      "__________________________________________________________________________________________________\n",
      "conv2d_17 (Conv2D)              (None, 20, 40, 128)  147584      batch_normalization_15[0][0]     \n",
      "__________________________________________________________________________________________________\n",
      "batch_normalization_16 (BatchNo (None, 20, 40, 128)  512         conv2d_17[0][0]                  \n",
      "__________________________________________________________________________________________________\n",
      "conv2d_18 (Conv2D)              (None, 20, 40, 128)  147584      batch_normalization_16[0][0]     \n",
      "__________________________________________________________________________________________________\n",
      "batch_normalization_17 (BatchNo (None, 20, 40, 128)  512         conv2d_18[0][0]                  \n",
      "__________________________________________________________________________________________________\n",
      "add_1 (Add)                     (None, 20, 40, 128)  0           batch_normalization_17[0][0]     \n",
      "                                                                 batch_normalization_8[0][0]      \n",
      "__________________________________________________________________________________________________\n",
      "up_sampling2d_2 (UpSampling2D)  (None, 40, 80, 128)  0           add_1[0][0]                      \n",
      "__________________________________________________________________________________________________\n",
      "conv2d_transpose_2 (Conv2DTrans (None, 40, 80, 64)   73792       up_sampling2d_2[0][0]            \n",
      "__________________________________________________________________________________________________\n",
      "conv2d_19 (Conv2D)              (None, 40, 80, 64)   4160        conv2d_transpose_2[0][0]         \n",
      "__________________________________________________________________________________________________\n",
      "batch_normalization_18 (BatchNo (None, 40, 80, 64)   256         conv2d_19[0][0]                  \n",
      "__________________________________________________________________________________________________\n",
      "conv2d_20 (Conv2D)              (None, 40, 80, 64)   36928       batch_normalization_18[0][0]     \n",
      "__________________________________________________________________________________________________\n",
      "batch_normalization_19 (BatchNo (None, 40, 80, 64)   256         conv2d_20[0][0]                  \n",
      "__________________________________________________________________________________________________\n",
      "conv2d_21 (Conv2D)              (None, 40, 80, 64)   36928       batch_normalization_19[0][0]     \n",
      "__________________________________________________________________________________________________\n",
      "batch_normalization_20 (BatchNo (None, 40, 80, 64)   256         conv2d_21[0][0]                  \n",
      "__________________________________________________________________________________________________\n",
      "add_2 (Add)                     (None, 40, 80, 64)   0           batch_normalization_20[0][0]     \n",
      "                                                                 batch_normalization_5[0][0]      \n",
      "__________________________________________________________________________________________________\n",
      "up_sampling2d_3 (UpSampling2D)  (None, 80, 160, 64)  0           add_2[0][0]                      \n",
      "__________________________________________________________________________________________________\n",
      "conv2d_transpose_3 (Conv2DTrans (None, 80, 160, 32)  18464       up_sampling2d_3[0][0]            \n",
      "__________________________________________________________________________________________________\n",
      "conv2d_22 (Conv2D)              (None, 80, 160, 32)  1056        conv2d_transpose_3[0][0]         \n",
      "__________________________________________________________________________________________________\n",
      "batch_normalization_21 (BatchNo (None, 80, 160, 32)  128         conv2d_22[0][0]                  \n",
      "__________________________________________________________________________________________________\n",
      "conv2d_23 (Conv2D)              (None, 80, 160, 32)  9248        batch_normalization_21[0][0]     \n",
      "__________________________________________________________________________________________________\n",
      "batch_normalization_22 (BatchNo (None, 80, 160, 32)  128         conv2d_23[0][0]                  \n",
      "__________________________________________________________________________________________________\n",
      "conv2d_24 (Conv2D)              (None, 80, 160, 32)  9248        batch_normalization_22[0][0]     \n",
      "__________________________________________________________________________________________________\n",
      "batch_normalization_23 (BatchNo (None, 80, 160, 32)  128         conv2d_24[0][0]                  \n",
      "__________________________________________________________________________________________________\n",
      "add_3 (Add)                     (None, 80, 160, 32)  0           batch_normalization_23[0][0]     \n",
      "                                                                 batch_normalization_2[0][0]      \n",
      "__________________________________________________________________________________________________\n",
      "conv2d_25 (Conv2D)              (None, 80, 160, 16)  4624        add_3[0][0]                      \n",
      "__________________________________________________________________________________________________\n",
      "conv2d_26 (Conv2D)              (None, 80, 160, 8)   1160        conv2d_25[0][0]                  \n",
      "__________________________________________________________________________________________________\n",
      "conv2d_27 (Conv2D)              (None, 80, 160, 1)   73          conv2d_26[0][0]                  \n",
      "==================================================================================================\n",
      "Total params: 4,982,625\n",
      "Trainable params: 4,976,865\n",
      "Non-trainable params: 5,760\n",
      "__________________________________________________________________________________________________\n"
     ]
    }
   ],
   "source": [
    "'''MODEL COMBINITION'''\n",
    "\n",
    "encoder = tf.keras.Model(X_input, out3, name='encoder')\n",
    "encoder.summary()\n",
    "\n"
   ]
  },
  {
   "cell_type": "code",
   "execution_count": 0,
   "metadata": {
    "colab": {},
    "colab_type": "code",
    "id": "wtxIFkTu0zUa"
   },
   "outputs": [],
   "source": [
    "'''Data Augmentation'''\n",
    "\n",
    "\n",
    "datagen = ImageDataGenerator(channel_shift_range=0.2)\n",
    "datagen.fit(X_train)\n"
   ]
  },
  {
   "cell_type": "code",
   "execution_count": 0,
   "metadata": {
    "colab": {},
    "colab_type": "code",
    "id": "lVxMJWhy1D-N"
   },
   "outputs": [],
   "source": [
    "'''Compiling and training the model'''\n",
    "\n",
    "encoder.compile(optimizer='Adam', loss='mean_squared_error')\n",
    "history = encoder.fit_generator(datagen.flow(X_train, y_train, batch_size=batch_size), steps_per_epoch=len(X_train)/batch_size,epochs=epochs, verbose=1, validation_data=(X_val, y_val))"
   ]
  },
  {
   "cell_type": "code",
   "execution_count": 0,
   "metadata": {
    "colab": {},
    "colab_type": "code",
    "id": "59zW1jj2jIzN"
   },
   "outputs": [],
   "source": [
    "'''Saving the model'''\n",
    "\n",
    "encoder.save('/content/drive/My Drive/ML_project/Lane_Detection/final_model.h5')"
   ]
  }
 ],
 "metadata": {
  "colab": {
   "collapsed_sections": [],
   "machine_shape": "hm",
   "name": "Code_Submission",
   "provenance": []
  },
  "kernelspec": {
   "display_name": "Python 3",
   "language": "python",
   "name": "python3"
  },
  "language_info": {
   "codemirror_mode": {
    "name": "ipython",
    "version": 3
   },
   "file_extension": ".py",
   "mimetype": "text/x-python",
   "name": "python",
   "nbconvert_exporter": "python",
   "pygments_lexer": "ipython3",
   "version": "3.7.7"
  }
 },
 "nbformat": 4,
 "nbformat_minor": 1
}
